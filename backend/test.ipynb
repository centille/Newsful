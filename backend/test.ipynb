{
 "cells": [
  {
   "cell_type": "code",
   "execution_count": 1,
   "metadata": {},
   "outputs": [
    {
     "name": "stderr",
     "output_type": "stream",
     "text": [
      "d:\\kavach\\backend\\env\\lib\\site-packages\\tqdm\\auto.py:21: TqdmWarning: IProgress not found. Please update jupyter and ipywidgets. See https://ipywidgets.readthedocs.io/en/stable/user_install.html\n",
      "  from .autonotebook import tqdm as notebook_tqdm\n"
     ]
    }
   ],
   "source": [
    "from urllib.parse import urlparse\n",
    "\n",
    "from googletrans import Translator\n",
    "from summarizer import Summarizer\n",
    "from waybackpy import WaybackMachineSaveAPI\n",
    "\n",
    "# from core.decorators import clean_text\n",
    "\n",
    "\n",
    "def get_domain(url: str) -> str:\n",
    "    \"\"\"\n",
    "    get_domain returns the domain of the url.\n",
    "\n",
    "    Parameters\n",
    "    ----------\n",
    "    url : str\n",
    "        The url to be checked.\n",
    "\n",
    "    Returns\n",
    "    -------\n",
    "    str\n",
    "        The domain of the url.\n",
    "    \"\"\"\n",
    "\n",
    "    return urlparse(url).netloc\n",
    "\n",
    "\n",
    "# @clean_text\n",
    "def to_english(text: str) -> str:\n",
    "    \"\"\"\n",
    "    to_english translates text to english if it is not already in english.\n",
    "\n",
    "    Parameters\n",
    "    ----------\n",
    "    text : str\n",
    "        The text to be translated.\n",
    "\n",
    "    Returns\n",
    "    -------\n",
    "    str\n",
    "        The text translated to english.\n",
    "    \"\"\"\n",
    "\n",
    "    translator = Translator()\n",
    "    if translator.detect(text).lang == \"en\":\n",
    "        return text\n",
    "    obj = translator.translate(text)\n",
    "    return obj.text\n",
    "\n",
    "\n",
    "# @clean_text\n",
    "def summarize(text: str) -> str:\n",
    "    \"\"\"\n",
    "    summarize summarizes text.\n",
    "\n",
    "    Parameters\n",
    "    ----------\n",
    "    text : str\n",
    "        The text to be summarized.\n",
    "\n",
    "    Returns\n",
    "    -------\n",
    "    str\n",
    "        The 3 sentence summary of the text.\n",
    "    \"\"\"\n",
    "\n",
    "    model = Summarizer()\n",
    "    summary = model(text, ratio=0.25, use_first=False)\n",
    "    return summary\n",
    "\n",
    "\n",
    "def archiveURL(url: str) -> str:\n",
    "    \"\"\"\n",
    "    archiveURL returns the archive url of given url\n",
    "\n",
    "    Parameters\n",
    "    ----------\n",
    "    url : str\n",
    "        The url to be archived.\n",
    "\n",
    "    Returns\n",
    "    -------\n",
    "    str\n",
    "        The archive url of the given url.\n",
    "    \"\"\"\n",
    "\n",
    "    user_agent = \"Mozilla/5.0 (iPad; U; CPU OS 3_2_1 like Mac OS X; en-us) AppleWebKit/531.21.10 (KHTML, like Gecko) Mobile/7B405\"\n",
    "    save_api = WaybackMachineSaveAPI(url=url, user_agent=user_agent, max_tries=12)\n",
    "    archive_url = save_api.save()\n",
    "    return archive_url\n"
   ]
  },
  {
   "cell_type": "code",
   "execution_count": 2,
   "metadata": {},
   "outputs": [
    {
     "data": {
      "text/plain": [
       "'mui.com'"
      ]
     },
     "execution_count": 2,
     "metadata": {},
     "output_type": "execute_result"
    }
   ],
   "source": [
    "get_domain(\"https://mui.com/material-ui/guides/next-js-app-router/\")"
   ]
  },
  {
   "cell_type": "code",
   "execution_count": 3,
   "metadata": {},
   "outputs": [
    {
     "data": {
      "text/plain": [
       "'Hello how are you?'"
      ]
     },
     "execution_count": 3,
     "metadata": {},
     "output_type": "execute_result"
    }
   ],
   "source": [
    "to_english(\"Hola, como estas?\")"
   ]
  },
  {
   "cell_type": "code",
   "execution_count": 4,
   "metadata": {},
   "outputs": [
    {
     "name": "stderr",
     "output_type": "stream",
     "text": [
      "Some weights of the model checkpoint at bert-large-uncased were not used when initializing BertModel: ['cls.predictions.transform.LayerNorm.weight', 'cls.seq_relationship.bias', 'cls.predictions.transform.LayerNorm.bias', 'cls.seq_relationship.weight', 'cls.predictions.transform.dense.bias', 'cls.predictions.bias', 'cls.predictions.transform.dense.weight']\n",
      "- This IS expected if you are initializing BertModel from the checkpoint of a model trained on another task or with another architecture (e.g. initializing a BertForSequenceClassification model from a BertForPreTraining model).\n",
      "- This IS NOT expected if you are initializing BertModel from the checkpoint of a model that you expect to be exactly identical (initializing a BertForSequenceClassification model from a BertForSequenceClassification model).\n",
      "d:\\kavach\\backend\\env\\lib\\site-packages\\sklearn\\cluster\\_kmeans.py:1412: FutureWarning: The default value of `n_init` will change from 10 to 'auto' in 1.4. Set the value of `n_init` explicitly to suppress the warning\n",
      "  super()._check_params_vs_input(X, default_n_init=10)\n"
     ]
    },
    {
     "name": "stdout",
     "output_type": "stream",
     "text": [
      "The former chancellor Franz von Papen and other conservative leaders persuaded President Paul von Hindenburg to appoint Hitler as chancellor on 30 January 1933.\n",
      "<class 'str'>\n",
      "160\n"
     ]
    }
   ],
   "source": [
    "summary = summarize(\"By November 1932, the Nazi Party held the most seats in the German Reichstag but did not have a majority. As a result, no party was able to form a majority parliamentary coalition in support of a candidate for chancellor. The former chancellor Franz von Papen and other conservative leaders persuaded President Paul von Hindenburg to appoint Hitler as chancellor on 30 January 1933. Shortly after, the Reichstag passed the Enabling Act of 1933 which began the process of transforming the Weimar Republic into Nazi Germany, a one-party dictatorship based on the totalitarian and autocratic ideology of Nazism. On 2 August 1934, Hindenburg died and Hitler replaced him as the head of state and government. Hitler aimed to eliminate Jews from Germany and establish a New Order to counter what he saw as the injustice of the post-World War I international order dominated by Britain and France. His first six years in power resulted in rapid economic recovery from the Great Depression, the abrogation of restrictions imposed on Germany after World War I, and the annexation of territories inhabited by millions of ethnic Germans, which initially gave him significant popular support.\")\n",
    "print(summary)\n",
    "print(type(summary))\n",
    "print(len(summary))"
   ]
  },
  {
   "cell_type": "code",
   "execution_count": 5,
   "metadata": {},
   "outputs": [
    {
     "data": {
      "text/plain": [
       "'https://web.archive.org/web/20230717094455/https://blog.siddhesh.tech/'"
      ]
     },
     "execution_count": 5,
     "metadata": {},
     "output_type": "execute_result"
    }
   ],
   "source": [
    "archiveURL(\"https://blog.siddhesh.tech/\")"
   ]
  },
  {
   "cell_type": "code",
   "execution_count": 7,
   "metadata": {},
   "outputs": [],
   "source": [
    "import pickle\n",
    "import pandas as pd\n",
    "\n",
    "\n",
    "def isPhishing(url: str) -> bool:\n",
    "    \"\"\"\n",
    "    isPhishing checks if the url is a phishing url.\n",
    "\n",
    "    Parameters\n",
    "    ----------\n",
    "    url : str\n",
    "        The url to be checked.\n",
    "\n",
    "    Returns\n",
    "    -------\n",
    "    bool\n",
    "        True if the url is a phishing url, False otherwise.\n",
    "    \"\"\"\n",
    "\n",
    "    model = pickle.load(open(\"./models/model.pkl\", \"rb\"))\n",
    "    prediction = model.predict([url])\n",
    "    return prediction[0] == \"good\"\n",
    "\n",
    "\n",
    "def isCredible(url: str) -> bool:\n",
    "    \"\"\"\n",
    "    isCredible checks if the url is a credible url.\n",
    "\n",
    "    Parameters\n",
    "    ----------\n",
    "    url : str\n",
    "        The url to be checked.\n",
    "\n",
    "    Returns\n",
    "    -------\n",
    "    bool\n",
    "        True if the url is a credible url, False otherwise.\n",
    "    \"\"\"\n",
    "\n",
    "    domain = get_domain(url)\n",
    "    df: pd.DataFrame = pd.read_csv(\"./assets/sources.csv\", engine=\"pyarrow\")[[\"domain\"]]\n",
    "    row = df.loc[df[\"domain\"] == domain]\n",
    "    if row.empty:\n",
    "        return isPhishing(url)\n",
    "    return \"fake\" not in [\n",
    "        str(row[\"type1\"]).lower(),\n",
    "        str(row[\"type2\"]).lower(),\n",
    "        str(row[\"type3\"]).lower(),\n",
    "    ]\n"
   ]
  },
  {
   "cell_type": "code",
   "execution_count": 9,
   "metadata": {},
   "outputs": [
    {
     "name": "stderr",
     "output_type": "stream",
     "text": [
      "d:\\kavach\\backend\\env\\lib\\site-packages\\sklearn\\base.py:347: InconsistentVersionWarning: Trying to unpickle estimator CountVectorizer from version 1.0.2 when using version 1.3.0. This might lead to breaking code or invalid results. Use at your own risk. For more info please refer to:\n",
      "https://scikit-learn.org/stable/model_persistence.html#security-maintainability-limitations\n",
      "  warnings.warn(\n",
      "d:\\kavach\\backend\\env\\lib\\site-packages\\sklearn\\base.py:347: InconsistentVersionWarning: Trying to unpickle estimator LogisticRegression from version 1.0.2 when using version 1.3.0. This might lead to breaking code or invalid results. Use at your own risk. For more info please refer to:\n",
      "https://scikit-learn.org/stable/model_persistence.html#security-maintainability-limitations\n",
      "  warnings.warn(\n",
      "d:\\kavach\\backend\\env\\lib\\site-packages\\sklearn\\base.py:347: InconsistentVersionWarning: Trying to unpickle estimator Pipeline from version 1.0.2 when using version 1.3.0. This might lead to breaking code or invalid results. Use at your own risk. For more info please refer to:\n",
      "https://scikit-learn.org/stable/model_persistence.html#security-maintainability-limitations\n",
      "  warnings.warn(\n"
     ]
    },
    {
     "data": {
      "text/plain": [
       "True"
      ]
     },
     "execution_count": 9,
     "metadata": {},
     "output_type": "execute_result"
    }
   ],
   "source": [
    "isPhishing(\"https://wikipedia.org\")"
   ]
  }
 ],
 "metadata": {
  "kernelspec": {
   "display_name": "env",
   "language": "python",
   "name": "python3"
  },
  "language_info": {
   "codemirror_mode": {
    "name": "ipython",
    "version": 3
   },
   "file_extension": ".py",
   "mimetype": "text/x-python",
   "name": "python",
   "nbconvert_exporter": "python",
   "pygments_lexer": "ipython3",
   "version": "3.10.9"
  },
  "orig_nbformat": 4
 },
 "nbformat": 4,
 "nbformat_minor": 2
}
